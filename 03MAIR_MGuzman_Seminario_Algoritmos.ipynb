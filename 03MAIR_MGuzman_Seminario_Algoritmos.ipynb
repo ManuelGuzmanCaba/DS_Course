{
  "nbformat": 4,
  "nbformat_minor": 0,
  "metadata": {
    "colab": {
      "name": "03MAIR_MGuzman_Seminario_Algoritmos.ipynb",
      "provenance": [],
      "collapsed_sections": [],
      "include_colab_link": true
    },
    "kernelspec": {
      "display_name": "Python 3",
      "language": "python",
      "name": "python3"
    },
    "language_info": {
      "codemirror_mode": {
        "name": "ipython",
        "version": 3
      },
      "file_extension": ".py",
      "mimetype": "text/x-python",
      "name": "python",
      "nbconvert_exporter": "python",
      "pygments_lexer": "ipython3",
      "version": "3.7.3"
    }
  },
  "cells": [
    {
      "cell_type": "markdown",
      "metadata": {
        "id": "view-in-github",
        "colab_type": "text"
      },
      "source": [
        "<a href=\"https://colab.research.google.com/github/ManuelGuzmanCaba/DS_Course/blob/master/03MAIR_MGuzman_Seminario_Algoritmos.ipynb\" target=\"_parent\"><img src=\"https://colab.research.google.com/assets/colab-badge.svg\" alt=\"Open In Colab\"/></a>"
      ]
    },
    {
      "cell_type": "markdown",
      "metadata": {
        "colab_type": "text",
        "id": "hVbXYX-RfPWh"
      },
      "source": [
        "# Algoritmos de optimización - Seminario<br>\n",
        "Nombre y Apellidos: Manuel Ángel Guzmán Caba<br>\n",
        "Colab: https://colab.research.google.com/drive/1g8AF7gpblam_JKaxRcp3Jh0O7wGsyqI7\n",
        "Github: https://github.com/.../03MAIR---Algoritmos-de-Optimizacion---2019/tree/master/SEMINARIO<br>\n",
        "Problema:\n",
        "> 1. Elección de grupos de población homogéneos <br>\n",
        "\n",
        "Descripción del problema:\n",
        "\n",
        "Una productora ganadera nos encarga la tarea de seleccionar grupos de terneros para aplicar 3 tratamientos diferentes. Para cada uno de los tratamientos debemos seleccionar 3 grupos de terneros separados por sexos que sean lo mas homogéneos posible en peso para que en los resultados del tratamiento influya lo menos posible el peso del animal. Disponemos de una población de N animales entre machos y hembras. Se solicita diseñar un algoritmo para conseguir una agrupación que cumpla de la mejor manera posible las especificaciones de la productora.\n",
        "\n",
        "(*) La respuesta es obligatoria\n",
        "\n",
        "                                       "
      ]
    },
    {
      "cell_type": "code",
      "metadata": {
        "colab_type": "code",
        "id": "AiskKkzZfy4e",
        "colab": {}
      },
      "source": [
        "### Resolución\n",
        "\n",
        "Para la resolución del problema, se ha de tener en cuenta que se solicitan tres grupos por cada uno de los tres tratamientos. Además, estos grupos se deben de dar separardos entre machos y hembras. No obstante, se asume que el peso de un grupo para un tratamiento tiene que ser homogéneo, independientemente de que luego se presente separado entre machos y hembras (es decir, no debe haber solo homogeneidad entre machos y hembras para un grupo dado, sino también para el grupo total). Por tanto, se han de construir 9 grupos distintos, donde la distribución del peso de los animales en cada grupo tenga la menor varianza posible, y una vez construidos, se presentan separados entre machos y hembras. \n",
        "\n",
        "Si la población tiene N animales, para la resolución del problema se va a asumir que se distribuyen todos los animales de la población. Se asume que al menos hay nueve animales (es decir, $N\\geq9$). Si $m$ es en número de machos y $h$ el número de hembras, entonces $N=m+h$ (con $m,h\\geq0$).\n",
        "*************"
      ],
      "execution_count": 0,
      "outputs": []
    },
    {
      "cell_type": "markdown",
      "metadata": {
        "colab_type": "text",
        "id": "3_-exlrTgLd-"
      },
      "source": [
        "(*)¿Cuantas posibilidades hay sin tener en cuenta las restricciones?<br>\n",
        "\n",
        "¿Cuantas posibilidades hay teniendo en cuenta todas las restricciones."
      ]
    },
    {
      "cell_type": "markdown",
      "metadata": {
        "colab_type": "text",
        "id": "WfCUqJyKhPcw"
      },
      "source": [
        "***Respuesta***"
      ]
    },
    {
      "cell_type": "code",
      "metadata": {
        "colab_type": "code",
        "id": "iq6Fe32MgpDX",
        "colab": {}
      },
      "source": [
        "*Pregunta 1:*\n",
        "\n",
        "En primer lugar, supóngase que todos los grupos han de tener al menos un animal (es decir, no puede haber ningún grupo vacío). Asimismo, se asume que, a priori, cualquier animal podría ser seleccionado en cualquier grupo. Se va a asumir que todos los grupos son distinguibles (es decir, que los tres grupos asociados a un tratamiento son distinguibles, y por tanto asignar un animal al primero de estos tres grupos es diferente a asignarlo al segundo o tercero de dichos tres grupos). No obstante, si no hay otras restricciones, podría ocurrir que no haya machos o hembras en algún grupo. Por tanto, para esta estimación la separación entre machos y hembras es irrelevante. \n",
        "\n",
        "1. Si hay exactamente 9 animales ($N=9$), entonces se pueden hacer solamente permutaciones de 9 elementos sin repetición. Por tanto, habría $9!$ opciones.\n",
        "- En el caso en que $N>9$, para cuantificar el número de agrupaciones posible, en primer lugar se ha de asignar un animal a cada grupo (para garantizar que no hay grupos vacíos). Para hacer esto, hay que seleccionar un gupo de 9 animales de entre los N que hay. Para cuantificar las diferntes opciones de agrupamiento es preciso considerar que para formar un grupo, no es necesario seleccionar todos los elementos, no pueden aparecer elementos repetidos, y si cambia el orden de los elementos, cambia el grupo. Por tanto, estamos ante Variaciones sin repetición de $N$ elementos tomados de 9 en 9: $V_{N,9}=\\frac{N!}{(N-9)!}$\n",
        "A continuación, para los $N-9$ animales restantes, cada uno de ellos tiene la opción de ser asignado en cualquiera de los 9 grupos. Es decir: se selecciona un animal, y puede ser asignado en cualquiera de los 9 grupos. Se selecciona el siguiente animal, y puede ser seleccionado en cualquiera de los 9 grupos, etc. Esto implica que hay $9^{N-9}$ formas distintas de asignar los animales restantes.\n",
        "Por tanto, en total hay las siguientes formas de hacer agrupaciones: $$V_{N,9}\\cdot9^{N-9}$$\n",
        "\n",
        "*Pregunta 2*\n",
        "\n",
        "En el caso en que se incorpore como restricción que en todos los grupos tiene que haber machos y hembras (para lo cual se ha de asumir que $m,h\\geq9$), entonces el cálculo anterior ha de hacerse de forma separada. No obstante, el cálculo de variaciones para garantizar que hay al menos un animal en cada grupo solo se ha de hacer para una de las dos poblaciones, por ejemplo los machos, por lo que las opciones son: $$V_{m,9}\\cdot9^{m-9}\\cdot9^{h-9}=V_{m,9}\\cdot9^{m+h-18}$$\n",
        "\n",
        "Finalmente, si se considera como restricción que, dentro de un tratamiento, los grupos no son distinguibles (es decir, que si se tiene una asignación $(c_{1},c_{2},c_{3})$ dentro del tratamiento 1, entonces esta asignación es igual que la asignación $(c_{2},c_{1},c_{3})$), en este caso se estarían contabilizando $P_{3}=3!=6$ veces cada opción en cada grupo de tres. Por tanto, habría que dividir el número anterior por $P_{3}^{3}=216$. \n",
        "*************"
      ],
      "execution_count": 0,
      "outputs": []
    },
    {
      "cell_type": "markdown",
      "metadata": {
        "colab_type": "text",
        "id": "dzynfVJahHoY"
      },
      "source": [
        "Modelo para el espacio de soluciones<br>\n",
        "(*) ¿Cual es la estructura de datos que mejor se adapta al problema? Arguméntalo.(Es posible que hayas elegido una al principio y veas la necesidad de cambiar, arguméntalo)"
      ]
    },
    {
      "cell_type": "markdown",
      "metadata": {
        "colab_type": "text",
        "id": "xFIJrOwKi2Ti"
      },
      "source": [
        "***Respuesta***"
      ]
    },
    {
      "cell_type": "code",
      "metadata": {
        "colab_type": "code",
        "id": "38c-7-ejhJmA",
        "colab": {}
      },
      "source": [
        "La estructura de datos iniciales del problema debe de contener un listado con los animales. Cada animal tendrá un id (número único identificativo del animal, la *primary key*), el peso, y un indicador de si es macho (\"m\") o hembra (\"h\").\n",
        "\n",
        "Por tanto, para los animales se usará una lista, donde cada elemento, que representa un animal, es a su vez una lista de 3 elementos: el primero es un número entero con el id del animal, el segundo es un float con el peso, y el tercero es un char que puede tomar los valores \"m\" o \"h\" para macho y hembra, respectivamente.\n",
        "\n",
        "La estructura de datos para dar la solución debe poder identificar cada uno de los 9 grupos. Cada grupo ha de ser una lista con los animales asociados a dicho grupo. Por tanto, la solución final será una lista de 9 elementos que representan los 9 grupos. Cada uno de estos elementos contendrá una lista con los animales asignados a dicho grupo.\n",
        "\n",
        "Por ejemplo, para los animales se tendrá una lista como sigue:\n",
        "animales = [\n",
        "[0,32,\"m\"],[1,34,\"h\"],...,[N-1,35,\"m].\n",
        "]\n",
        "En este ejemplo, el primer animal tiene identificador id=0, peso=32kg, y es macho.\n",
        "\n",
        "Para la solución, se tendrá un conjunto de grupos como sigue:\n",
        "\n",
        "c=[\n",
        "\n",
        "[animal_1,animal_2,...,animal_n0], #(lista de animales del grupo 0)\n",
        "\n",
        "[animal_1,animal_2,...,animal_n1], #(lista de animales del grupo 1)\n",
        "\n",
        "...,\n",
        "\n",
        "[animal_1,animal_2,...,animal_n8] #(lista de animales del grupo 8)\n",
        "\n",
        "].\n",
        "\n",
        "Nótese que animal_1 es, a su vez, una lista de la forma [id,peso,sexo]\n",
        "***************"
      ],
      "execution_count": 0,
      "outputs": []
    },
    {
      "cell_type": "markdown",
      "metadata": {
        "colab_type": "text",
        "id": "7Z9U2W7bi-XS"
      },
      "source": [
        "Según el modelo para el espacio de soluciones<br>\n",
        "(*)¿Cual es la función objetivo?\n",
        "\n",
        "(*)¿Es un problema de maximización o minimización?"
      ]
    },
    {
      "cell_type": "markdown",
      "metadata": {
        "colab_type": "text",
        "id": "hBalWLM7j1_d"
      },
      "source": [
        "***Respuesta***"
      ]
    },
    {
      "cell_type": "code",
      "metadata": {
        "colab_type": "code",
        "id": "pDA-rg3Gj5Lz",
        "colab": {}
      },
      "source": [
        "*Pregunta 1*\n",
        "\n",
        "Se pretende minimizar la varianza de cada uno de los grupos. Por tanto, dada una asignación de los animales en 9 grupos $c=(c_{1},...,c_{9})$, la función objetivo es la siguiente: $$f(c)=f(c_{1},...,c_{9})=\\sum_{i=1}^{9}\\sigma^2(c_{i}),$$ donde $\\sigma^2(c_{i})$ representa la varianza de la variable *peso* de los animales incluidos en el grupo $c_{i}$\n",
        "\n",
        "\n",
        "*Pregunta 2*\n",
        "\n",
        "Se trata de un problema de minimización. Si $C$ es el conjunto de todas las posibles distribuciones de animales en los grupos $c=(c_{1},...,c_{9})$, entonces se busca:\n",
        "$$\n",
        "\\DeclareMathOperator*{\\argminA}{arg\\,min}\n",
        "\\argminA_{c \\in C} f(c)\n",
        "$$\n",
        "**************"
      ],
      "execution_count": 0,
      "outputs": []
    },
    {
      "cell_type": "markdown",
      "metadata": {
        "colab_type": "text",
        "id": "rlnTYgY1j6I2"
      },
      "source": [
        "Diseña un algoritmo para resolver el problema por fuerza bruta"
      ]
    },
    {
      "cell_type": "markdown",
      "metadata": {
        "colab_type": "text",
        "id": "70rDgxYXkC8r"
      },
      "source": [
        "***Respuesta***"
      ]
    },
    {
      "cell_type": "code",
      "metadata": {
        "colab_type": "code",
        "id": "CJb5sQ0qkENy",
        "colab": {}
      },
      "source": [
        "El algoritmo por fuerza bruta consiste en generar todas las posibles combinaciones de agrupación en 9 grupos, de acuerdo con las cifras planteadas en la primera pregunta, calcular la varianza de la variable peso de cada uno de los grupos, calcular la suma de las 9 varianzas, y escoger la agrupación que muestra la menor varianza. \n",
        "**********"
      ],
      "execution_count": 0,
      "outputs": []
    },
    {
      "cell_type": "markdown",
      "metadata": {
        "colab_type": "text",
        "id": "tgrnsC2nkFa8"
      },
      "source": [
        "Calcula la complejidad del algoritmo por fuerza bruta"
      ]
    },
    {
      "cell_type": "markdown",
      "metadata": {
        "colab_type": "text",
        "id": "9eUd3xwckP68"
      },
      "source": [
        "***Respuesta***"
      ]
    },
    {
      "cell_type": "code",
      "metadata": {
        "colab_type": "code",
        "id": "rvZWwL-ckRST",
        "colab": {}
      },
      "source": [
        "El algoritmo por fuerza bruta tiene una complejidad factorial (véase la primera pregunta, donde se han computado las posibilidades).\n",
        "***********"
      ],
      "execution_count": 0,
      "outputs": []
    },
    {
      "cell_type": "markdown",
      "metadata": {
        "colab_type": "text",
        "id": "txbrmLmskReM"
      },
      "source": [
        "(*)Diseña un algoritmo que mejore la complejidad del algortimo por fuerza bruta. Argumenta porque crees que mejora el algoritmo por fuerza bruta"
      ]
    },
    {
      "cell_type": "markdown",
      "metadata": {
        "colab_type": "text",
        "id": "hLrVwt5QkZPD"
      },
      "source": [
        "***Respuesta***"
      ]
    },
    {
      "cell_type": "code",
      "metadata": {
        "colab_type": "code",
        "id": "m1eyM21Vkabg",
        "colab": {}
      },
      "source": [
        "Para diseñar el algoritmo, se va a realizar un procedimiento heurístico, en el que va a intervenir una técnica greedy o algoritmo voraz.\n",
        "\n",
        "Es preciso considerar que la varianza es la media de las distancias al cuadrado de cada valor respecto a la media. Por tanto, para conseguir la menor varianza de la variable peso en cada uno de los grupos, se ha de buscar clasificar a cada animal en el grupo que tenga la media del peso de los animales de dicho grupo más cercana al peso del animal que se quiere clasificar. Es decir, si un grupo tiene un peso medio de 35, y otro de 37, y el animal que se quiere asignar tiene peso 35.5, entonces se asignará al primer grupo, puesto que la distancia del peso a la media de dicho grupo (0.5) es menor que la distancia a la media del segundo grupo (1.5). Esta asignación conlleva el menor aumento posible de la suma de las varianzas de los distintos grupos.\n",
        "\n",
        "El algoritmo se hará de forma iterativa, asignando en cada paso a un determinado animal. Es voraz en el sentido de que, una vez asignado un animal a un grupo, no se volverá a reasignar.\n",
        "\n",
        "Por último, aunque se solicita que los machos y hembras se den por separado, en realidad no se piden 18 grupos (9 para machos y 9 para hembras), sino que se piden 9 grupos (3 por tratamiento), y cada uno de estos grupos han de ser homogéneos, independientemente de la separación entre machos y hembras. Por tanto, se aplicará el algoritmo a la totalidad de animales, y luego se presentarán los grupos separando machos y hembras. Nótese que esto puede implicar que en algún grupo solo haya machos o solo haya hembras (no se ha impuesto la restricción de que tiene que haber machos y hembras en todos los grupos). Se realizará el siguiente algoritmo:\n",
        "\n",
        "*Paso 1: comprobar la viabilidad del algoritmo:*\n",
        "- Si ($N<9$), entonces no se puede hacer el reparto, puesto que no se pueden generar lo 9 grupos. Se muestra un mensaje de error, y el algoritmofinaliza\n",
        "\n",
        "*Paso 2: asignación de los animales a grupos*\n",
        "\n",
        "En primer lugar se ordena la población de forma ascendente en función de la variable peso.\n",
        "\n",
        "Se genera la lista \"almacén\" de los grupos: c=[][]\n",
        "\n",
        "#Asignación inicial: Se seleccionan como animales el de mayor peso, el de menor peso, y otros siete que estén equidistribuidos \n",
        "- c[0].append(id con min(peso))\n",
        "- c[8].append(id con max(peso))\n",
        "- eliminar estos dos id de la lista de animales\n",
        "- salto=(max(peso)-min(peso))/8\n",
        "- valor medio = min(peso)\n",
        "- for i desde 1 hasta 8(excl):\n",
        "    - valor_referencia += salto\n",
        "    - for j in animales:\n",
        "        - distancia(j) = abs(peso(animal j) - valor_referencia)\n",
        "    - c[i].append(id con min(distancia(j)))\n",
        "    - eliminar dicho id de la lista de animales\n",
        "\n",
        "#Asignación de cada uno de los animales a un grupo\n",
        "#Un animal solo puede asignarse al grupo con peso medio inmediatamente menor o inmediatamente mayor al peso del animal\n",
        "- j=1\n",
        "- for i in animales:\n",
        "    - m(0) = media (peso de los animales en c[j-1])\n",
        "    - m(1) = media (peso de los animales en c[j])\n",
        "    - m(2) = media (peso de los animales en c[j+1])\n",
        "    - if peso del animal i <= m(1):\n",
        "        - distancia_inf = abs(peso(animal i) - m(0))\n",
        "        - distancia_sup = abs(peso(animal i) - m(1))\n",
        "        - if distancia_inf < distancia_sup, el animal se asigna a c(j-1), si no se asigna a c(j)\n",
        "    - else:\n",
        "        - distancia_inf = abs(peso(animal i) - m(1))\n",
        "        - distancia_sup = abs(peso(animal i) - m(2))\n",
        "        - if distancia_inf < distancia_sup, el animal se asigna a c(j), si no se asigna a c(j+1)\n",
        "        - j += 1\n",
        "\n",
        "A continuación se desarrolla el código python"
      ],
      "execution_count": 0,
      "outputs": []
    },
    {
      "cell_type": "code",
      "metadata": {
        "id": "nrCKQXgxpy-f",
        "colab_type": "code",
        "colab": {}
      },
      "source": [
        "#imports necesarios\n",
        "import numpy as np\n",
        "\n",
        "#definición de funciones\n",
        "\n",
        "#función para realizar la asignación inical\n",
        "def poblacion(animales):\n",
        "    \"\"\"\n",
        "    Función que asigna los primeros n animales de la población\n",
        "    Cada animal se representa por una lista 1x2, compuesta por un id y el peso. \n",
        "    Ejemplo: [1,34]: se trata del animal con id 1, de peso 34kg\n",
        "    \n",
        "    Inputs:\n",
        "    - animales: lista nx1, donde cada fila tiene un animal\n",
        "    \n",
        "    Outputs:\n",
        "    - c: lista con 9 animales asignados\n",
        "    - animales: lista con todos los animales salvo los 9 asignados\n",
        "    \"\"\"\n",
        "    #Ordenación en función del segundo elemento (peso)\n",
        "    def getkey(item):\n",
        "        return item[1]\n",
        "    animales = sorted(animales,key=getkey)\n",
        "    \n",
        "    #se genera la lista c que almacenará los primeros 9 animales asignados\n",
        "    c=[]\n",
        "    for i in range(9):\n",
        "        c.append([])\n",
        "    \n",
        "    #asignación de los dos primeros\n",
        "    c[0].append(animales[0])\n",
        "    c[8].append(animales[len(animales)-1])\n",
        "    \n",
        "    #eliminación de la lista final\n",
        "    animales.pop(0)\n",
        "    animales.pop(len(animales)-1)\n",
        "    \n",
        "    #obtención del resto de elementos\n",
        "    salto=(c[8][0][1]-c[0][0][1])/8\n",
        "    valor=c[0][0][1]\n",
        "    \n",
        "    for i in range(1,8):\n",
        "        valor += salto\n",
        "        distancia = []\n",
        "        \n",
        "        #cálculo de los puntos más equidistantes\n",
        "        for animal in animales:\n",
        "            distancia.append(np.abs(animal[1] - valor))\n",
        "        \n",
        "        k=np.argmin(distancia)\n",
        "        c[i].append(animales[k])\n",
        "        \n",
        "        #eliminar el animal seleccionado de la lista de animales\n",
        "        animales.pop(k)\n",
        "    \n",
        "    return animales, c\n",
        "    \n",
        "    \n",
        "#función para la distribución de animales en grupos\n",
        "def distribucion(animales,c):\n",
        "    \"\"\"\n",
        "    Función que distribuye un listado de n animales en los grupos definidos por c\n",
        "    c ya tiene un animal de referencia para cada grupo\n",
        "    Cada animal se define por un vector 1x3, donde cada columna es:\n",
        "    - columna 0: id del animal\n",
        "    - columna 1: peso del animal\n",
        "    - columna 2: sexo del animal\n",
        "\n",
        "    Inputs:\n",
        "    - animales: matriz nx1, donde cada fila tiene un animal\n",
        "    - c: matriz 9x1 donde cada fila es el primer animal asignado a cada grupo.\n",
        "    \n",
        "    Output:\n",
        "    - c: grupo completo con la asignación de animales\n",
        "    \"\"\"\n",
        "    j=1 #identifica los grupos de referencia (se comparará con j-1, j y j+1)\n",
        "    m=np.empty(3) #almacena las medias de pesos de los grupos de referencia\n",
        "    \n",
        "    #Ordenación en función del segundo elemento (peso)\n",
        "    def getkey(item):\n",
        "        return item[1]\n",
        "    animales = sorted(animales,key=getkey)\n",
        "    \n",
        "    for animal in animales:\n",
        "        \n",
        "        #estimación de la media de pesos para j-1, j y j+1\n",
        "        m[0]=np.mean(c[j-1],axis=0)[1]\n",
        "        m[1]=np.mean(c[j],axis=0)[1]\n",
        "        m[2]=np.mean(c[j+1],axis=0)[1]\n",
        "        \n",
        "        #asignación en función de la menor distancia entre el peso del animal y las medias\n",
        "        if animal[1] <= m[1]: #el peso está entre la media de c[j-1] y c[j]\n",
        "            distancia_inf = np.abs(animal[1] - m[0])\n",
        "            distancia_sup = np.abs(animal[1] - m[1])\n",
        "            if distancia_inf <= distancia_sup:\n",
        "                c[j-1].append(animal) #el animal se asigna a c(j-1)\n",
        "            else:\n",
        "                c[j].append(animal) #el animal se asigna a c(j)\n",
        "        else: #el peso está entre la media de c[j-1] y c[j]\n",
        "            distancia_inf = np.abs(animal[1] - m[1])\n",
        "            distancia_sup = np.abs(animal[1] - m[2])\n",
        "            if distancia_inf <= distancia_sup:\n",
        "                c[j].append(animal) #el animal se asigna a c(j)\n",
        "            else:\n",
        "                c[j+1].append(animal) #el animal se asigna a c(j+1)\n",
        "            if j<7:\n",
        "                j += 1 #como los pesos están ordenados, ya no es necesario comparar más con j-1, por eso se aumenta el valor\n",
        "    return c\n",
        "\n",
        "\n",
        "#función para ejecutar el proceso\n",
        "def ejecucion(animales):\n",
        "    #si hay menos de 9 animales, no se puede lanzar el proceso\n",
        "    if len(animales) < 9:\n",
        "        return print(\"Hay menos de 9 animales\")\n",
        "    else: #se ejecuta la distribución\n",
        "        animales, c = poblacion(animales)\n",
        "        c=distribucion(animales,c)\n",
        "    \n",
        "    print(\"Resumen:\")\n",
        "    for i in range(9):\n",
        "        print(\"Grupo \",i+1,\": \",len(c[i]), \"animales. Peso medio: \", \n",
        "              np.mean(c[i],axis=0)[1],\n",
        "              \" Desviación Típica: \",np.std(c[i],axis=0)[1])\n",
        "    return c"
      ],
      "execution_count": 0,
      "outputs": []
    },
    {
      "cell_type": "markdown",
      "metadata": {
        "colab_type": "text",
        "id": "eGDB4K6uk1iN"
      },
      "source": [
        "(*)Calcula la complejidad del algoritmo "
      ]
    },
    {
      "cell_type": "markdown",
      "metadata": {
        "colab_type": "text",
        "id": "NhpTh_BPk1ms"
      },
      "source": [
        "***Respuesta***"
      ]
    },
    {
      "cell_type": "code",
      "metadata": {
        "colab_type": "code",
        "id": "nREzhkStlCq8",
        "colab": {}
      },
      "source": [
        "El algoritmo de ejecución tiene comparaciones condicionales que no dependen de n, asignaciones, e invocaciones. Por tanto, su complejidad depende de la complejidad de las funciones invocadas. Puesto que se invoca una y luego otra, la complejidad es la suma de ambas.\n",
        "\n",
        "La función \"poblacion\" tiene un algoritmo de ordenación, que tendrá una complejidad O(n log n), y luego un bucle de tamaño 9, y un bucle de tamaño n en su interior, que tendrá una complejidad O(n). El resto son asignaciones, condicionales, o bien recorrer una lista n veces, que igualmente, tiene una complejidad O(n). Por tanto, esta función tiene complejidad O(n log n).\n",
        "\n",
        "Finalmente, la función \"distribucion\" tiene un bucle en su interior de tamaño n, y dentro de este bucle, se realiza una media, donde en el peor de los casos se debe recorrer n elementos. El resto son asignaciones, condicionales, o bien operaciones elementales. Por tanto, esta función tiene complejidad O($n^2$)\n",
        "\n",
        "Por todo ello, la complejidad de este algoritmo es O($n^2$)\n",
        "*************"
      ],
      "execution_count": 0,
      "outputs": []
    },
    {
      "cell_type": "markdown",
      "metadata": {
        "colab_type": "text",
        "id": "3M6QjTsSkmYe"
      },
      "source": [
        "Según el problema (y tenga sentido), diseña un juego de datos de entrada aleatorios"
      ]
    },
    {
      "cell_type": "markdown",
      "metadata": {
        "colab_type": "text",
        "id": "Jc3_OlyNkvjZ"
      },
      "source": [
        "***Respuesta***"
      ]
    },
    {
      "cell_type": "code",
      "metadata": {
        "colab_type": "code",
        "id": "sJ-N2etjkyWc",
        "colab": {}
      },
      "source": [
        "En primer lugar, se va a asumir que la población de animales presenta una distribución normal. Asimismo, para definir si un animal es macho o hembra, se va a asumir una distribución uniforme:\n",
        "\n",
        "Si N es el tamaño de la muestra que se quiere generar, para cada animal (esto es, para cada id) se obtendrá el valor de una variable aleatoria normal de media 35kg y desviación estándar 3.1. Asimismo, se generará un valor aleatorio entre 0 y 1, y se asignará \"macho\" si el valor es menor a 0.5, y \"hembra\" en caso contrario."
      ],
      "execution_count": 0,
      "outputs": []
    },
    {
      "cell_type": "code",
      "metadata": {
        "id": "OSYx7CrApy-m",
        "colab_type": "code",
        "colab": {}
      },
      "source": [
        "N=10000\n",
        "np.random.seed(12)\n",
        "animales=[]\n",
        "animales_por_sexo=[]\n",
        "\n",
        "for i in range(N):\n",
        "    peso=np.random.normal(loc=35,scale=3.1)\n",
        "    if np.random.rand() < 0.5:\n",
        "        sexo=\"m\"\n",
        "    else:\n",
        "        sexo=\"h\"\n",
        "    animales.append([i,peso])\n",
        "    animales_por_sexo.append([i,peso,sexo])"
      ],
      "execution_count": 0,
      "outputs": []
    },
    {
      "cell_type": "markdown",
      "metadata": {
        "colab_type": "text",
        "id": "zy5ZROmjlGo1"
      },
      "source": [
        "Aplica el algoritmo al juego de datos generado"
      ]
    },
    {
      "cell_type": "markdown",
      "metadata": {
        "colab_type": "text",
        "id": "_Cmj-PVylMsa"
      },
      "source": [
        "***Respuesta***"
      ]
    },
    {
      "cell_type": "code",
      "metadata": {
        "colab_type": "code",
        "id": "Jkx8GeiYlUz1",
        "colab": {},
        "outputId": "86a46175-9246-4a16-fc0b-bff41746b488"
      },
      "source": [
        "c=ejecucion(animales)"
      ],
      "execution_count": 0,
      "outputs": [
        {
          "output_type": "stream",
          "text": [
            "Resumen:\n",
            "Grupo  1 :  40 animales. Peso medio:  26.41522236719782  Desviación Típica:  0.5487810302965366\n",
            "Grupo  2 :  323 animales. Peso medio:  28.663626011134397  Desviación Típica:  0.6547770161050769\n",
            "Grupo  3 :  1286 animales. Peso medio:  31.025151988035272  Desviación Típica:  0.7039730050905652\n",
            "Grupo  4 :  2803 animales. Peso medio:  33.37029275583359  Desviación Típica:  0.7087923275549184\n",
            "Grupo  5 :  3022 animales. Peso medio:  35.72895759723098  Desviación Típica:  0.7145046283106335\n",
            "Grupo  6 :  1867 animales. Peso medio:  38.14031294455676  Desviación Típica:  0.7124813704871822\n",
            "Grupo  7 :  551 animales. Peso medio:  40.51749330130615  Desviación Típica:  0.6641251816430778\n",
            "Grupo  8 :  97 animales. Peso medio:  43.05347775120702  Desviación Típica:  0.5846498539577875\n",
            "Grupo  9 :  11 animales. Peso medio:  45.48573391281225  Desviación Típica:  0.5479901084678643\n"
          ],
          "name": "stdout"
        }
      ]
    },
    {
      "cell_type": "markdown",
      "metadata": {
        "colab_type": "text",
        "id": "eTFWUJQrtGcv"
      },
      "source": [
        "Enumera las referencias que has utilizado(si ha sido necesario) para llevar a cabo el trabajo"
      ]
    },
    {
      "cell_type": "markdown",
      "metadata": {
        "colab_type": "text",
        "id": "YKQ_mRBttWsP"
      },
      "source": [
        "***Respuesta***"
      ]
    },
    {
      "cell_type": "markdown",
      "metadata": {
        "id": "xX2AdeDUpy-s",
        "colab_type": "text"
      },
      "source": [
        "No ha sido necesario utilizar ninguna referencia. Tan solo, para la programación he consultado el libro\n",
        "\n",
        "McKinney, W.: *Python for Data Analysis*. O'Reilly. 2nd Ed. October 2017"
      ]
    },
    {
      "cell_type": "markdown",
      "metadata": {
        "colab_type": "text",
        "id": "kAkDPUyRtYyH"
      },
      "source": [
        "Describe brevemente las lineas de como crees que es posible avanzar en el estudio del problema. Ten en cuenta incluso posibles variaciones del problema y/o variaciones al alza del tamaño"
      ]
    },
    {
      "cell_type": "markdown",
      "metadata": {
        "colab_type": "text",
        "id": "IE0uZmo-tZu-"
      },
      "source": [
        "***Respuesta***"
      ]
    },
    {
      "cell_type": "markdown",
      "metadata": {
        "id": "RUb771Vtpy-u",
        "colab_type": "text"
      },
      "source": [
        "Una opción es utilizar mecanismos de clustering (por ejemplo, un Kmeans++) con la variable peso, y observar si se mejora respecto al algoritmo presentado.\n",
        "\n",
        "Por otro lado, se puede plantear el estimar la distribución para cada uno de los sexos, y luego componer las muestras. Esto puede tener mejor efecto si la distribución de sexos no es uniforme."
      ]
    }
  ]
}