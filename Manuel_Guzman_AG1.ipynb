{
  "nbformat": 4,
  "nbformat_minor": 0,
  "metadata": {
    "colab": {
      "name": "Manuel Guzman - AG1.ipynb",
      "provenance": [],
      "collapsed_sections": [],
      "include_colab_link": true
    },
    "kernelspec": {
      "name": "python3",
      "display_name": "Python 3"
    }
  },
  "cells": [
    {
      "cell_type": "markdown",
      "metadata": {
        "id": "view-in-github",
        "colab_type": "text"
      },
      "source": [
        "<a href=\"https://colab.research.google.com/github/ManuelGuzmanCaba/DS_Course/blob/master/Manuel_Guzman_AG1.ipynb\" target=\"_parent\"><img src=\"https://colab.research.google.com/assets/colab-badge.svg\" alt=\"Open In Colab\"/></a>"
      ]
    },
    {
      "cell_type": "markdown",
      "metadata": {
        "id": "jU_APEWxu2eS",
        "colab_type": "text"
      },
      "source": [
        "* AG1 - Actividad Guiada 1\n",
        "* Manuel Ángel Guzmán Caba\n",
        "* https://colab.research.google.com/drive/1hn6tYHkLWNOU75McuoegbXWdnNe_5lb3\n",
        "* Github: https://github.com/ManuelGuzmanCaba/DS_Course/blob/master/Manuel_Guzman_AG1.ipynb"
      ]
    },
    {
      "cell_type": "code",
      "metadata": {
        "id": "qy-dcSxepJnA",
        "colab_type": "code",
        "colab": {}
      },
      "source": [
        "#imports necesarios\n",
        "import numpy as np\n",
        "from functools import wraps #para uso de decorador\n",
        "from time import time #uso del reloj del procesador\n",
        "\n",
        "#para evitar problemas de stack overflow en la recursión\n",
        "import sys \n",
        "import inspect\n",
        "\n",
        "#Decorador para medir tiempos\n",
        "def calcular_tiempo(f):\n",
        "  #Input: función f de la que se quiere medir el tiempo de ejecución\n",
        "  @wraps(f) #Para indicar que lo que viene a continuación es un decorador\n",
        "  def cronometro(*args , **kwargs): #función que calcula el tiempo de f\n",
        "    t_inicial = time()\n",
        "    salida = f(*args , **kwargs)\n",
        "    t_final = time()\n",
        "    print('Tiempo transcurrido (en segundos): {}'.format(t_final-t_inicial))\n",
        "    return salida\n",
        "  return cronometro"
      ],
      "execution_count": 0,
      "outputs": []
    },
    {
      "cell_type": "code",
      "metadata": {
        "id": "CLF12fM4xrJ2",
        "colab_type": "code",
        "colab": {}
      },
      "source": [
        "##########################################\n",
        "# Algoritmo de ordenación\n",
        "##########################################\n",
        "stack_inicial=len(inspect.stack())+1\n",
        "\n",
        "#Función de ordenación de lista\n",
        "def quick_sort(mi_lista,descendente=False):\n",
        "  \"\"\"\n",
        "  Se pretende ordenar la lista, en forma ascendente o descendente\n",
        "  Inputs:\n",
        "  - mi_lista: lista de números reales\n",
        "  - descendente: (boolean). TRUE si se desea que la ordenación sea descendente\n",
        "  - c: indica el número de veces que se llama a la función\n",
        "  Output: lista ordenada\n",
        "  \"\"\"\n",
        "  \n",
        "  if len(mi_lista)==0 or len(mi_lista)==1:\n",
        "    return mi_lista\n",
        "  if len(mi_lista)==2 and descendente:\n",
        "    return [max(mi_lista),min(mi_lista)]\n",
        "  elif len(mi_lista)==2 and not(descendente):\n",
        "    return [min(mi_lista),max(mi_lista)]\n",
        "  \n",
        "  pivote=(sum(mi_lista)-min(mi_lista)-max(mi_lista))/(len(mi_lista)-2)\n",
        "  izq=[]\n",
        "  drc=[]\n",
        "  \n",
        "  #En función del pivote, se divide la lista en dos partes\n",
        "  for i in mi_lista:\n",
        "    if i <= pivote:\n",
        "      drc.append(i) if descendente else izq.append(i)\n",
        "    else:\n",
        "      drc.append(i) if not(descendente) else izq.append(i)\n",
        "\n",
        "  #Para controlar la excepción de la recursión elevada\n",
        "  try:\n",
        "    izq=quick_sort(izq,descendente)\n",
        "    drc=quick_sort(drc,descendente)\n",
        "    return izq+drc\n",
        "  except:\n",
        "    return [\"Error\"]\n",
        "\n",
        "#función para utilizar el decorador 1 única vez\n",
        "@calcular_tiempo\n",
        "def ordenar(lista,descendente=False):\n",
        "  resultado = quick_sort(lista,descendente)\n",
        "  if \"Error\" in resultado:\n",
        "    return \"Error en la ejecución: lista muy grande\"\n",
        "  else:\n",
        "    return resultado"
      ],
      "execution_count": 0,
      "outputs": []
    },
    {
      "cell_type": "code",
      "metadata": {
        "id": "SbP7CK_a6yDk",
        "colab_type": "code",
        "outputId": "e4a98063-303c-48fb-a1df-73c559772386",
        "colab": {
          "base_uri": "https://localhost:8080/",
          "height": 377
        }
      },
      "source": [
        "#Lanzamiento y prueba de la función ordenar()\n",
        "\n",
        "#Pruebas\n",
        "A0=[]\n",
        "A1=[2]\n",
        "A2=[3,1]\n",
        "A3=[2,3,1]\n",
        "\n",
        "print(\"Resultado con 0 elementos:\", ordenar(A0))\n",
        "print(\"Resultado con 1 elemento:\", ordenar(A1))\n",
        "print(\"Resultado con 2 elementos, ascendente:\", ordenar(A2))\n",
        "print(\"Resultado con 2 elementos, descendente:\", ordenar(A2,descendente=True))\n",
        "print(\"Resultado con 3 elementos, ascendente:\", ordenar(A3))\n",
        "print(\"Resultado con 3 elementos, descendente:\", ordenar(A3,descendente=True))\n",
        "\n",
        "#Lista dada en el ejercicio\n",
        "A=[9187,244,4054,9222,8373,4993,5265,5470,4519,7182,2035,3506,4337,7580,2554,2824,8357,4447,7379]\n",
        "print(\"Resultado lista A, ascendente:\", ordenar(A))\n",
        "print(\"Resultado lista A elementos, descendente:\", ordenar(A,descendente=True))\n",
        "\n",
        "#Prueba de volumen: lista random con 50 registros\n",
        "sys.setrecursionlimit(10000)\n",
        "B=list(np.random.randint(1, high=1000, size=50))\n",
        "print(\"Resultado prueba de volumen, ascendente:\", ordenar(B))\n",
        "\n",
        "#Forzar error de recursión\n",
        "sys.setrecursionlimit(100)\n",
        "B=list(np.random.randint(1, high=1000, size=200))\n",
        "print(\"Forzar error en prueba de volumen:\", ordenar(B))"
      ],
      "execution_count": 3,
      "outputs": [
        {
          "output_type": "stream",
          "text": [
            "Tiempo transcurrido (en segundos): 3.5762786865234375e-06\n",
            "Resultado con 0 elementos: []\n",
            "Tiempo transcurrido (en segundos): 2.86102294921875e-06\n",
            "Resultado con 1 elemento: [2]\n",
            "Tiempo transcurrido (en segundos): 5.4836273193359375e-06\n",
            "Resultado con 2 elementos, ascendente: [1, 3]\n",
            "Tiempo transcurrido (en segundos): 2.86102294921875e-06\n",
            "Resultado con 2 elementos, descendente: [3, 1]\n",
            "Tiempo transcurrido (en segundos): 1.0013580322265625e-05\n",
            "Resultado con 3 elementos, ascendente: [1, 2, 3]\n",
            "Tiempo transcurrido (en segundos): 6.4373016357421875e-06\n",
            "Resultado con 3 elementos, descendente: [3, 2, 1]\n",
            "Tiempo transcurrido (en segundos): 4.935264587402344e-05\n",
            "Resultado lista A, ascendente: [244, 2035, 2554, 2824, 3506, 4054, 4337, 4447, 4519, 4993, 5265, 5470, 7182, 7379, 7580, 8357, 8373, 9187, 9222]\n",
            "Tiempo transcurrido (en segundos): 3.337860107421875e-05\n",
            "Resultado lista A elementos, descendente: [9222, 9187, 8373, 8357, 7580, 7379, 7182, 5470, 5265, 4993, 4519, 4447, 4337, 4054, 3506, 2824, 2554, 2035, 244]\n",
            "Tiempo transcurrido (en segundos): 0.0013873577117919922\n",
            "Resultado prueba de volumen, ascendente: [18, 22, 30, 55, 79, 94, 159, 207, 269, 293, 309, 316, 339, 354, 367, 373, 390, 392, 395, 408, 425, 433, 494, 517, 524, 587, 593, 599, 619, 642, 656, 669, 673, 686, 720, 765, 783, 786, 875, 882, 903, 909, 932, 964, 967, 975, 987, 992, 996, 998]\n",
            "Tiempo transcurrido (en segundos): 0.00795435905456543\n",
            "Forzar error en prueba de volumen: Error en la ejecución: lista muy grande\n"
          ],
          "name": "stdout"
        }
      ]
    },
    {
      "cell_type": "code",
      "metadata": {
        "id": "15fs7A3n4BiL",
        "colab_type": "code",
        "outputId": "999ffeac-4d1c-4497-c033-a152623382ab",
        "colab": {
          "base_uri": "https://localhost:8080/",
          "height": 51
        }
      },
      "source": [
        "##########################################\n",
        "# Algoritmo de cambio de monedas\n",
        "##########################################\n",
        "\n",
        "\n",
        "#cambio de monedas\n",
        "@calcular_tiempo\n",
        "def cambio_monedas(cantidad,sistema_monetario):\n",
        "  \n",
        "  #inicializamos las variables que necesitamos\n",
        "  solucion = np.zeros(len(sistema_monetario))\n",
        "  \n",
        "  #ordenamos el sistema de forma descendente para que dé el máximo número\n",
        "  #de monedas de la cantidad más grande\n",
        "  #usamos quick_sort() en lugar de ordenar() para que no salga el decorador\n",
        "  sistema_ordenado = quick_sort(sistema_monetario,descendente=True)\n",
        "  valor_acumulado = 0\n",
        "  \n",
        "  for i in range(len(sistema_ordenado)):\n",
        "    solucion[i]=(cantidad - valor_acumulado)//sistema_ordenado[i]\n",
        "    valor_acumulado = valor_acumulado + solucion[i]*sistema_ordenado[i]\n",
        "    #control para no recorrer todo el bucle\n",
        "    if valor_acumulado == cantidad:\n",
        "      break\n",
        "      \n",
        "  return solucion\n",
        "\n",
        "SISTEMA = [25,10,5,1]\n",
        "\n",
        "cambio = cambio_monedas(23,SISTEMA)\n",
        "print(\"El cambio requerido es\",cambio)"
      ],
      "execution_count": 4,
      "outputs": [
        {
          "output_type": "stream",
          "text": [
            "Tiempo transcurrido (en segundos): 6.103515625e-05\n",
            "El cambio requerido es [0. 2. 0. 3.]\n"
          ],
          "name": "stdout"
        }
      ]
    },
    {
      "cell_type": "code",
      "metadata": {
        "id": "SiUzWK6L8mVu",
        "colab_type": "code",
        "outputId": "b7f476ad-0a21-4300-ef09-d26c00c571fe",
        "colab": {
          "base_uri": "https://localhost:8080/",
          "height": 68
        }
      },
      "source": [
        "##########################################\n",
        "# Problema de las 9 reinas\n",
        "##########################################\n",
        "\n",
        "#función para identificar si una solución es prometedora\n",
        "def es_prometedora(solucion,etapa):\n",
        "  \"\"\"\n",
        "  Input:\n",
        "  - solucion = es la solución propuesta que se quiere testear\n",
        "  - etapa = indica la reina que se está situando\n",
        "  \"\"\"\n",
        "  for i in range(etapa+1): #se comprueba hasta la reina en análisis\n",
        "    #Test 1: no hay 2 reinas en la misma fila\n",
        "    if solucion.count(solucion[i])>1: \n",
        "      return False\n",
        "    #Test 2: dos reinas no están en la misma diagonal\n",
        "    for j in range(i+1,etapa+1):\n",
        "      if abs(j-i) == abs(solucion[j]-solucion[i]):\n",
        "        return False\n",
        "  return True\n",
        "\n",
        "#función para resolver el problema de las 9 reinas\n",
        "def reinas(n,solucion=[],etapa=0):\n",
        "  \"\"\"\n",
        "  Input: \n",
        "  - n = número de reinas que se quieren posicionar\n",
        "  - solucion = lista con la solución en la etapa de análisis\n",
        "  - etapa = indica la reina que se está posicionando\n",
        "  \"\"\"\n",
        "\n",
        "  #se inicializa la solución con todo ceros\n",
        "  if len(solucion)==0:\n",
        "    solucion=list(np.zeros(n)) \n",
        "  \n",
        "  for i in range(1,n+1):\n",
        "    #se sitúa la reina indicada por \"etapa\" en la fila i\n",
        "    solucion[etapa]=i\n",
        "    \n",
        "    #se analiza si esta solución es prometedora, \n",
        "    #considerando el resto de soluciones obtenidas hasta la reina \"etapa\"-1\n",
        "    if es_prometedora(solucion,etapa):\n",
        "      #si se está situando la última reina\n",
        "      if etapa == n-1:\n",
        "        print(\"La solución es\", solucion)\n",
        "      else:\n",
        "        #se sitúa la siguiente reina \n",
        "        #sobre la solución construida hasta el momento\n",
        "        reinas(n,solucion,etapa+1)\n",
        "\n",
        "\n",
        "#Cálculo de todas las soluciones\n",
        "reinas(5)"
      ],
      "execution_count": 5,
      "outputs": [
        {
          "output_type": "stream",
          "text": [
            "La solución es [1, 3, 5, 2, 4]\n",
            "La solución es [2, 4, 1, 3, 5]\n",
            "La solución es [3, 1, 4, 2, 5]\n"
          ],
          "name": "stdout"
        }
      ]
    }
  ]
}