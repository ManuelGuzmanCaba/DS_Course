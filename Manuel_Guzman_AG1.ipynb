{
  "nbformat": 4,
  "nbformat_minor": 0,
  "metadata": {
    "colab": {
      "name": "Manuel Guzman - AG1.ipynb",
      "provenance": [],
      "collapsed_sections": [],
      "include_colab_link": true
    },
    "kernelspec": {
      "name": "python3",
      "display_name": "Python 3"
    }
  },
  "cells": [
    {
      "cell_type": "markdown",
      "metadata": {
        "id": "view-in-github",
        "colab_type": "text"
      },
      "source": [
        "<a href=\"https://colab.research.google.com/github/ManuelGuzmanCaba/DS_Course/blob/master/Manuel_Guzman_AG1.ipynb\" target=\"_parent\"><img src=\"https://colab.research.google.com/assets/colab-badge.svg\" alt=\"Open In Colab\"/></a>"
      ]
    },
    {
      "cell_type": "markdown",
      "metadata": {
        "id": "jU_APEWxu2eS",
        "colab_type": "text"
      },
      "source": [
        "* AG1 - Actividad Guiada 1\n",
        "* Manuel Ángel Guzmán Caba\n",
        "* https://colab.research.google.com/drive/1hn6tYHkLWNOU75McuoegbXWdnNe_5lb3\n",
        "* Github: "
      ]
    },
    {
      "cell_type": "code",
      "metadata": {
        "id": "qy-dcSxepJnA",
        "colab_type": "code",
        "colab": {}
      },
      "source": [
        ""
      ],
      "execution_count": 0,
      "outputs": []
    }
  ]
}